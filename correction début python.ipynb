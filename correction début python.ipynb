{
  "nbformat": 4,
  "nbformat_minor": 0,
  "metadata": {
    "colab": {
      "provenance": []
    },
    "kernelspec": {
      "name": "python3",
      "display_name": "Python 3"
    },
    "language_info": {
      "name": "python"
    }
  },
  "cells": [
    {
      "cell_type": "code",
      "source": [
        "#python syntax\n",
        "print(\"Welcome to Python Pizza Deliveries!\")\n",
        "size = input(\"What size pizza do you want? S, M, or L \")\n",
        "add_pepperoni = input(\"Do you want pepperoni? Y or N \")\n",
        "extra_cheese = input(\"Do you want extra cheese? Y or N \")\n",
        "\n",
        "# calculate base price based on size\n",
        "if size == \"S\":\n",
        "    base_price = 15\n",
        "elif size == \"M\":\n",
        "    base_price = 20\n",
        "elif size == \"L\":\n",
        "    base_price = 25\n",
        "else:\n",
        "    print(\"Invalid input for size. Please enter S, M, or L.\")\n",
        "    exit()\n",
        "\n",
        "# add pepperoni cost to base price\n",
        "if add_pepperoni == \"Y\":\n",
        "    if size == \"S\":\n",
        "        base_price += 2\n",
        "    else:\n",
        "        base_price += 3\n",
        "\n",
        "# add extra cheese cost to base price\n",
        "if extra_cheese == \"Y\":\n",
        "    base_price += 1\n",
        "\n",
        "print (f\"Your final bill is: ${base_price}.\")\n"
      ],
      "metadata": {
        "colab": {
          "base_uri": "https://localhost:8080/"
        },
        "id": "UwxWWDhWX98f",
        "outputId": "b61f083a-1557-4bc1-8d69-3703a27df34a"
      },
      "execution_count": null,
      "outputs": [
        {
          "output_type": "stream",
          "name": "stdout",
          "text": [
            "Welcome to Python Pizza Deliveries!\n",
            "What size pizza do you want? S, M, or L L\n",
            "Do you want pepperoni? Y or N Y\n",
            "Do you want extra cheese? Y or N N\n",
            "Your final bill is: $28.\n"
          ]
        }
      ]
    },
    {
      "cell_type": "code",
      "source": [
        "#python data structure checkpoint\n",
        "# create an empty shopping list\n",
        "shopping_list = []\n",
        "\n",
        "# define the menu options\n",
        "menu = \"\"\"\n",
        "Menu:\n",
        "1. Add item\n",
        "2. Remove item\n",
        "3. View list\n",
        "4. Quit\n",
        "\"\"\"\n",
        "\n",
        "# loop until the user chooses to quit\n",
        "while True:\n",
        "    # display the menu\n",
        "    print(menu)\n",
        "\n",
        "    # get the user's selection\n",
        "    choice = input(\"Enter your choice (1-4): \")\n",
        "\n",
        "    # handle the user's selection\n",
        "    if choice == '1':\n",
        "        # check if the list is full\n",
        "        if len(shopping_list) == 5:\n",
        "            print(\"Sorry, the list is full.\")\n",
        "        else:\n",
        "            # prompt the user to enter an item and add it to the list\n",
        "            item = input(\"Enter an item to add: \")\n",
        "            shopping_list.append(item)\n",
        "            print(item, \"has been added to the list.\")\n",
        "    elif choice == '2':\n",
        "        # check if the list is empty\n",
        "        if len(shopping_list) == 0:\n",
        "            print(\"Sorry, the list is empty.\")\n",
        "        else:\n",
        "            # prompt the user to enter an item and remove it from the list\n",
        "            item = input(\"Enter an item to remove: \")\n",
        "            if item in shopping_list:\n",
        "                shopping_list.remove(item)\n",
        "                print(item, \"has been removed from the list.\")\n",
        "            else:\n",
        "                print(item, \"is not in the list.\")\n",
        "    elif choice == '3':\n",
        "        # display the list of items\n",
        "        print(\"Current shopping list:\")\n",
        "        for item in shopping_list:\n",
        "            print(\"- \", item)\n",
        "    elif choice == '4':\n",
        "        # exit the program\n",
        "        print(\"Goodbye!\")\n",
        "        break\n",
        "    else:\n",
        "        # handle invalid input\n",
        "        print(\"Invalid choice. Please enter a number from 1 to 4.\")\n"
      ],
      "metadata": {
        "id": "bSdrh5aU0HGL",
        "colab": {
          "base_uri": "https://localhost:8080/"
        },
        "outputId": "53a55eca-73fa-4dfe-aa7e-7e20cd8e7823"
      },
      "execution_count": null,
      "outputs": [
        {
          "output_type": "stream",
          "name": "stdout",
          "text": [
            "\n",
            "Menu:\n",
            "1. Add item\n",
            "2. Remove item\n",
            "3. View list\n",
            "4. Quit\n",
            "\n",
            "Enter your choice (1-4): 3\n",
            "Current shopping list:\n",
            "\n",
            "Menu:\n",
            "1. Add item\n",
            "2. Remove item\n",
            "3. View list\n",
            "4. Quit\n",
            "\n",
            "Enter your choice (1-4): 1\n",
            "Enter an item to add: zara\n",
            "zara has been added to the list.\n",
            "\n",
            "Menu:\n",
            "1. Add item\n",
            "2. Remove item\n",
            "3. View list\n",
            "4. Quit\n",
            "\n",
            "Enter your choice (1-4): 3\n",
            "Current shopping list:\n",
            "-  zara\n",
            "\n",
            "Menu:\n",
            "1. Add item\n",
            "2. Remove item\n",
            "3. View list\n",
            "4. Quit\n",
            "\n",
            "Enter your choice (1-4): 4\n",
            "Goodbye!\n"
          ]
        }
      ]
    },
    {
      "cell_type": "code",
      "source": [
        "#python function\n",
        "# define basic mathematical functions\n",
        "def add(num1, num2):\n",
        "    return num1 + num2\n",
        "\n",
        "def subtract(num1, num2):\n",
        "    return num1 - num2\n",
        "\n",
        "def multiply(num1, num2):\n",
        "    return num1 * num2\n",
        "\n",
        "def divide(num1, num2):\n",
        "    return num1 / num2\n",
        "\n",
        "# create dictionary to assign functions to operation symbols\n",
        "operations = {\n",
        "    \"+\": add,\n",
        "    \"-\": subtract,\n",
        "    \"*\": multiply,\n",
        "    \"/\": divide\n",
        "}\n",
        "\n",
        "# define calculator function\n",
        "def calculator():\n",
        "    num1 = float(input(\"What is the first number? \"))\n",
        "    should_continue = True\n",
        "    \n",
        "    while should_continue:\n",
        "        for symbol in operations:\n",
        "            print(symbol)\n",
        "            \n",
        "        operation_symbol = input(\"Pick an operation symbol from the line above: \")\n",
        "        num2 = float(input(\"What is the next number? \"))\n",
        "        \n",
        "        calculation_function = operations[operation_symbol]\n",
        "        answer = calculation_function(num1, num2)\n",
        "        \n",
        "        print(f\"{num1} {operation_symbol} {num2} = {answer}\")\n",
        "        \n",
        "        choice = input(f\"Type 'y' to continue calculating with {answer}, or 'n' to start a new calculation: \")\n",
        "        if choice == \"y\":\n",
        "            num1 = answer\n",
        "        else:\n",
        "            should_continue = False\n",
        "            calculator()\n",
        "\n",
        "calculator()\n"
      ],
      "metadata": {
        "id": "iQ4_sALt0HDc"
      },
      "execution_count": null,
      "outputs": []
    },
    {
      "cell_type": "code",
      "source": [
        "#Object oriented programming: creating a bank account\n",
        "class Account:\n",
        "    def __init__(self, account_number, account_balance, account_holder):\n",
        "        self.account_number = account_number\n",
        "        self.account_balance = account_balance\n",
        "        self.account_holder = account_holder\n",
        "    \n",
        "    def deposit(self, amount):\n",
        "        self.account_balance += amount\n",
        "    \n",
        "    def withdraw(self, amount):\n",
        "        if self.account_balance >= amount:\n",
        "            self.account_balance -= amount\n",
        "        else:\n",
        "            print(\"Error: Insufficient funds.\")\n",
        "    \n",
        "    def check_balance(self):\n",
        "        return self.account_balance\n",
        "#to test the class, we can create an instance of it and ccall its methods\n",
        "my_account = Account(\"123456789\", 1000.0, \"John Doe\")\n",
        "\n",
        "print(\"Initial balance:\", my_account.check_balance())\n",
        "\n",
        "my_account.deposit(500.0)\n",
        "print(\"Balance after deposit:\", my_account.check_balance())\n",
        "\n",
        "my_account.withdraw(200.0)\n",
        "print(\"Balance after withdrawal:\", my_account.check_balance())\n",
        "\n",
        "my_account.withdraw(2000.0)  # Should print an error message\n",
        "print(\"Balance after withdrawal:\", my_account.check_balance())\n"
      ],
      "metadata": {
        "id": "MFjXPdV50HBB",
        "colab": {
          "base_uri": "https://localhost:8080/"
        },
        "outputId": "4c0d961e-4d4a-4e5d-9b0e-4da5a5b64258"
      },
      "execution_count": null,
      "outputs": [
        {
          "output_type": "stream",
          "name": "stdout",
          "text": [
            "Initial balance: 1000.0\n",
            "Balance after deposit: 1500.0\n",
            "Balance after withdrawal: 1300.0\n",
            "Error: Insufficient funds.\n",
            "Balance after withdrawal: 1300.0\n"
          ]
        }
      ]
    },
    {
      "cell_type": "code",
      "source": [
        "#python numpy checkpoint\n",
        "import numpy as np\n",
        "\n",
        "# Create the grades array\n",
        "grades = np.array([85, 90, 88, 92, 95, 80, 75, 98, 89, 83])\n",
        "\n",
        "# Calculate mean, median, and standard deviation\n",
        "mean = np.mean(grades)\n",
        "median = np.median(grades)\n",
        "std_dev = np.std(grades)\n",
        "\n",
        "# Find the maximum and minimum grades\n",
        "max_grade = np.max(grades)\n",
        "min_grade = np.min(grades)\n",
        "\n",
        "# Sort the grades in ascending order\n",
        "sorted_grades = np.sort(grades)\n",
        "\n",
        "# Find the index of the highest grade\n",
        "highest_index = np.argmax(grades)\n",
        "\n",
        "# Count the number of students who scored above 90\n",
        "num_above_90 = np.sum(grades > 90)\n",
        "\n",
        "# Calculate the percentage of students who scored above 90\n",
        "percent_above_90 = np.mean(grades > 90) * 100\n",
        "\n",
        "# Calculate the percentage of students who scored below 75\n",
        "percent_below_75 = np.mean(grades < 75) * 100\n",
        "\n",
        "# Extract all the grades above 90 and put them in a new array called \"high_performers\"\n",
        "high_performers = grades[grades > 90]\n",
        "\n",
        "# Create a new array called \"passing_grades\" that contains all the grades above 75\n",
        "passing_grades = grades[grades > 75]\n",
        "\n",
        "# Print the results\n",
        "print(\"Grades:\", grades)\n",
        "print(\"Mean:\", mean)\n",
        "print(\"Median:\", median)\n",
        "print(\"Standard Deviation:\", std_dev)\n",
        "print(\"Max Grade:\", max_grade)\n",
        "print(\"Min Grade:\", min_grade)\n",
        "print(\"Sorted Grades:\", sorted_grades)\n",
        "print(\"Index of Highest Grade:\", highest_index)\n",
        "print(\"Number of Grades Above 90:\", num_above_90)\n",
        "print(\"Percentage of Grades Above 90:\", percent_above_90)\n",
        "print(\"Percentage of Grades Below 75:\", percent_below_75)\n",
        "print(\"High Performers:\", high_performers)\n",
        "print(\"Passing Grades:\", passing_grades)\n"
      ],
      "metadata": {
        "id": "jLq6w2r-0G-n",
        "colab": {
          "base_uri": "https://localhost:8080/"
        },
        "outputId": "504eec5a-4472-42d4-9ca8-eb1bd99576c0"
      },
      "execution_count": null,
      "outputs": [
        {
          "output_type": "stream",
          "name": "stdout",
          "text": [
            "Grades: [85 90 88 92 95 80 75 98 89 83]\n",
            "Mean: 87.5\n",
            "Median: 88.5\n",
            "Standard Deviation: 6.591661399070799\n",
            "Max Grade: 98\n",
            "Min Grade: 75\n",
            "Sorted Grades: [75 80 83 85 88 89 90 92 95 98]\n",
            "Index of Highest Grade: 7\n",
            "Number of Grades Above 90: 3\n",
            "Percentage of Grades Above 90: 30.0\n",
            "Percentage of Grades Below 75: 0.0\n",
            "High Performers: [92 95 98]\n",
            "Passing Grades: [85 90 88 92 95 80 98 89 83]\n"
          ]
        }
      ]
    },
    {
      "cell_type": "code",
      "source": [
        "#file handling checkpoint\n",
        "import numpy as np\n",
        "\n",
        "# Open the CSV file\n",
        "with open('/content/Lending-Company-Saving.csv', 'r') as f:\n",
        "    # Use NumPy's genfromtxt function to read the file into a numpy array\n",
        "    loan_data = np.genfromtxt(f, delimiter=',', skip_header=1)\n",
        "\n",
        "# Find the mean, median, and standard deviation of the total loan amounts\n",
        "mean_loan = np.mean(loan_data[:, 6])\n",
        "median_loan = np.median(loan_data[:, 6])\n",
        "std_loan = np.std(loan_data[:, 6])\n",
        "\n",
        "# Print the results\n",
        "print(\"Mean loan amount: \", mean_loan)\n",
        "print(\"Median loan amount: \", median_loan)\n",
        "print(\"Standard deviation of loan amount: \", std_loan)\n"
      ],
      "metadata": {
        "id": "tnmeviXe0G8R",
        "colab": {
          "base_uri": "https://localhost:8080/"
        },
        "outputId": "b9ad3905-3709-4ba9-f0fe-2a107a7cf4a9"
      },
      "execution_count": null,
      "outputs": [
        {
          "output_type": "stream",
          "name": "stdout",
          "text": [
            "Mean loan amount:  nan\n",
            "Median loan amount:  nan\n",
            "Standard deviation of loan amount:  nan\n"
          ]
        }
      ]
    },
    {
      "cell_type": "code",
      "source": [],
      "metadata": {
        "id": "H9IOBBo00G5_"
      },
      "execution_count": null,
      "outputs": []
    },
    {
      "cell_type": "code",
      "source": [],
      "metadata": {
        "id": "ffR5uKfh0G3h"
      },
      "execution_count": null,
      "outputs": []
    },
    {
      "cell_type": "code",
      "source": [],
      "metadata": {
        "id": "Dir9vS9J0G1I"
      },
      "execution_count": null,
      "outputs": []
    },
    {
      "cell_type": "code",
      "source": [],
      "metadata": {
        "id": "mgU00WV20Gyx"
      },
      "execution_count": null,
      "outputs": []
    },
    {
      "cell_type": "code",
      "source": [],
      "metadata": {
        "id": "b1A7Gc2m0GwK"
      },
      "execution_count": null,
      "outputs": []
    },
    {
      "cell_type": "code",
      "source": [],
      "metadata": {
        "id": "bpjETEDA0Gt8"
      },
      "execution_count": null,
      "outputs": []
    },
    {
      "cell_type": "code",
      "source": [],
      "metadata": {
        "id": "OAyNeDfc0Grh"
      },
      "execution_count": null,
      "outputs": []
    },
    {
      "cell_type": "code",
      "source": [],
      "metadata": {
        "id": "VYVK4aU80GpE"
      },
      "execution_count": null,
      "outputs": []
    },
    {
      "cell_type": "code",
      "source": [],
      "metadata": {
        "id": "C7YpfYqE0Gmr"
      },
      "execution_count": null,
      "outputs": []
    },
    {
      "cell_type": "code",
      "source": [],
      "metadata": {
        "id": "JuohgM7e0GkE"
      },
      "execution_count": null,
      "outputs": []
    },
    {
      "cell_type": "code",
      "source": [],
      "metadata": {
        "id": "gfwXgW9E0Ghe"
      },
      "execution_count": null,
      "outputs": []
    }
  ]
}